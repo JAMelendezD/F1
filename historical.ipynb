{
 "cells": [
  {
   "cell_type": "code",
   "execution_count": 1,
   "metadata": {},
   "outputs": [],
   "source": [
    "import numpy as np\n",
    "import pandas as pd\n",
    "import matplotlib.pyplot as plt\n",
    "from ipywidgets import interact, interactive, fixed, interact_manual\n",
    "import ipywidgets as widgets"
   ]
  },
  {
   "cell_type": "code",
   "execution_count": 2,
   "metadata": {},
   "outputs": [],
   "source": [
    "points = pd.read_csv('data/results.csv', usecols = (1,2,3,9,17), names =['raceId','driverId','constructorId','points','statusId'])\n",
    "drivers = pd.read_csv('data/driver.csv', usecols = (0,1), names =['driverId','driverRef'])\n",
    "races = pd.read_csv('data/races.csv', usecols = (0,1,4), names =['raceId','year','name'])\n",
    "status = pd.read_csv('data/status.csv', names =['statusId','status'])\n",
    "teams = pd.read_csv('data/constructors.csv', names =['constructorId','constructorRef','name','nationality','url'])"
   ]
  },
  {
   "cell_type": "code",
   "execution_count": 3,
   "metadata": {},
   "outputs": [],
   "source": [
    "dict_drivers = dict(zip(drivers.values[:,0], drivers.values[:,1]))\n",
    "dict_year = dict(zip(races.values[:,0], races.values[:,1]))\n",
    "dict_team = dict(zip(teams.values[:,0], teams.values[:,1]))\n",
    "dict_circuit = dict(zip(races.values[:,0], races.values[:,2]))\n",
    "dict_status = dict(zip(status.values[:,0], status.values[:,1]))\n",
    "dict_color = {'red_bull': '#1E41FF', 'mclaren': '#FF8700', 'renault': '#FFF500', 'ferrari': '#DC0000', \n",
    "              'toro_rosso': '#469BFF', 'force_india': '#F596C8','racing_point': '#F596C8', 'lotus_racing': 'g', 'virgin': 'lime', \n",
    "              'williams': 'gainsboro', 'mercedes': '#00D2BE', 'sauber': '#9B0000','alfa': '#9B0000', 'hrt': 'purple', \n",
    "              'lotus_f1': '#FFF500', 'marussia': 'k', 'caterham': 'g', 'manor': 'k', 'haas': '#F0D787',\n",
    "              'bmw_sauber': '#9B0000', 'toyota': 'crimson', 'super_aguri': 'k', 'honda': 'lightcoral', \n",
    "              'spyker': 'gold','mf1': 'gold', 'spyker_mf1' : 'gold', 'bar': 'chartreuse', 'jordan': 'gold', \n",
    "              'minardi': 'grey','jaguar': '#0B6836','arrows': 'orangered','prost': 'b','benetton': 'springgreen', \n",
    "              'stewart': 'k','tyrrell': 'k', 'lola': 'orangered', 'ligier':'darkgreen','footwork':'indigo',\n",
    "              'forti': 'yellowgreen','brawn':'k', 'pacific':'royalblue', 'simtek':'magenta',\n",
    "              'larrousse':'darkgreen','team_lotus':'#FFF500','dallara':'c','fondmetal': 'b','march': 'orangered',\n",
    "              'moda':'k', 'brabham':'magenta','lambo':'grey' ,'ags':'olive','coloni':'k','leyton':'aqua',\n",
    "             'eurobrun': 'silver','osella':'b' , 'onyx': 'navy','life':'pink','rial': 'navy','zakspeed': 'pink'}"
   ]
  },
  {
   "cell_type": "code",
   "execution_count": 4,
   "metadata": {},
   "outputs": [],
   "source": [
    "points['year'] = points['raceId'].map(dict_year)\n",
    "points['driver'] = points['driverId'].map(dict_drivers)\n",
    "points['team'] = points['constructorId'].map(dict_team)\n",
    "points['status'] = points['statusId'].map(dict_status)\n",
    "points['circuit'] = points['raceId'].map(dict_circuit)\n",
    "points['color'] = points['team'].map(dict_color)"
   ]
  },
  {
   "cell_type": "code",
   "execution_count": 5,
   "metadata": {},
   "outputs": [
    {
     "data": {
      "text/html": [
       "<div>\n",
       "<style scoped>\n",
       "    .dataframe tbody tr th:only-of-type {\n",
       "        vertical-align: middle;\n",
       "    }\n",
       "\n",
       "    .dataframe tbody tr th {\n",
       "        vertical-align: top;\n",
       "    }\n",
       "\n",
       "    .dataframe thead th {\n",
       "        text-align: right;\n",
       "    }\n",
       "</style>\n",
       "<table border=\"1\" class=\"dataframe\">\n",
       "  <thead>\n",
       "    <tr style=\"text-align: right;\">\n",
       "      <th></th>\n",
       "      <th>raceId</th>\n",
       "      <th>driverId</th>\n",
       "      <th>constructorId</th>\n",
       "      <th>points</th>\n",
       "      <th>statusId</th>\n",
       "      <th>year</th>\n",
       "      <th>driver</th>\n",
       "      <th>team</th>\n",
       "      <th>status</th>\n",
       "      <th>circuit</th>\n",
       "      <th>color</th>\n",
       "    </tr>\n",
       "  </thead>\n",
       "  <tbody>\n",
       "    <tr>\n",
       "      <th>9407</th>\n",
       "      <td>404</td>\n",
       "      <td>137</td>\n",
       "      <td>3</td>\n",
       "      <td>9.0</td>\n",
       "      <td>1</td>\n",
       "      <td>1986</td>\n",
       "      <td>piquet</td>\n",
       "      <td>williams</td>\n",
       "      <td>Finished</td>\n",
       "      <td>Brazilian Grand Prix</td>\n",
       "      <td>gainsboro</td>\n",
       "    </tr>\n",
       "    <tr>\n",
       "      <th>9408</th>\n",
       "      <td>404</td>\n",
       "      <td>102</td>\n",
       "      <td>32</td>\n",
       "      <td>6.0</td>\n",
       "      <td>1</td>\n",
       "      <td>1986</td>\n",
       "      <td>senna</td>\n",
       "      <td>team_lotus</td>\n",
       "      <td>Finished</td>\n",
       "      <td>Brazilian Grand Prix</td>\n",
       "      <td>#FFF500</td>\n",
       "    </tr>\n",
       "    <tr>\n",
       "      <th>9409</th>\n",
       "      <td>404</td>\n",
       "      <td>172</td>\n",
       "      <td>27</td>\n",
       "      <td>4.0</td>\n",
       "      <td>1</td>\n",
       "      <td>1986</td>\n",
       "      <td>laffite</td>\n",
       "      <td>ligier</td>\n",
       "      <td>Finished</td>\n",
       "      <td>Brazilian Grand Prix</td>\n",
       "      <td>darkgreen</td>\n",
       "    </tr>\n",
       "    <tr>\n",
       "      <th>9410</th>\n",
       "      <td>404</td>\n",
       "      <td>163</td>\n",
       "      <td>27</td>\n",
       "      <td>3.0</td>\n",
       "      <td>1</td>\n",
       "      <td>1986</td>\n",
       "      <td>arnoux</td>\n",
       "      <td>ligier</td>\n",
       "      <td>Finished</td>\n",
       "      <td>Brazilian Grand Prix</td>\n",
       "      <td>darkgreen</td>\n",
       "    </tr>\n",
       "    <tr>\n",
       "      <th>9411</th>\n",
       "      <td>404</td>\n",
       "      <td>84</td>\n",
       "      <td>25</td>\n",
       "      <td>2.0</td>\n",
       "      <td>11</td>\n",
       "      <td>1986</td>\n",
       "      <td>brundle</td>\n",
       "      <td>tyrrell</td>\n",
       "      <td>+1 Lap</td>\n",
       "      <td>Brazilian Grand Prix</td>\n",
       "      <td>k</td>\n",
       "    </tr>\n",
       "  </tbody>\n",
       "</table>\n",
       "</div>"
      ],
      "text/plain": [
       "      raceId  driverId  constructorId  points  statusId  year   driver  \\\n",
       "9407     404       137              3     9.0         1  1986   piquet   \n",
       "9408     404       102             32     6.0         1  1986    senna   \n",
       "9409     404       172             27     4.0         1  1986  laffite   \n",
       "9410     404       163             27     3.0         1  1986   arnoux   \n",
       "9411     404        84             25     2.0        11  1986  brundle   \n",
       "\n",
       "            team    status               circuit      color  \n",
       "9407    williams  Finished  Brazilian Grand Prix  gainsboro  \n",
       "9408  team_lotus  Finished  Brazilian Grand Prix    #FFF500  \n",
       "9409      ligier  Finished  Brazilian Grand Prix  darkgreen  \n",
       "9410      ligier  Finished  Brazilian Grand Prix  darkgreen  \n",
       "9411     tyrrell    +1 Lap  Brazilian Grand Prix          k  "
      ]
     },
     "execution_count": 5,
     "metadata": {},
     "output_type": "execute_result"
    }
   ],
   "source": [
    "latest = points[(points['year'] >= 1986)]\n",
    "sorted_latest = latest.sort_values(by = ['year', 'raceId'])\n",
    "sorted_latest.head()"
   ]
  },
  {
   "cell_type": "code",
   "execution_count": 6,
   "metadata": {},
   "outputs": [],
   "source": [
    "def plot(Season):\n",
    "    fig = plt.figure(figsize = (20,10))\n",
    "    ax = plt.subplot(111)\n",
    "    teams = list()\n",
    "    season_points = sorted_latest[(sorted_latest['year'] == Season)]\n",
    "    for driver in season_points['driver'].unique():\n",
    "        tmp = season_points[season_points['driver'] == driver]\n",
    "        cum_latest =  np.cumsum(tmp.values[:,3])\n",
    "        team = tmp.values[0,7]\n",
    "        if team in teams:\n",
    "            ax.scatter(tmp.values[:,9], cum_latest, color = tmp.values[0,10],  edgecolor = 'k', s = 100)\n",
    "            ax.plot(tmp.values[:,9], cum_latest, color = tmp.values[0,10])\n",
    "        else:\n",
    "            ax.scatter(tmp.values[:,9], cum_latest, color = tmp.values[0,10],  edgecolor = 'k', label = team, s = 100)\n",
    "            ax.plot(tmp.values[:,9], cum_latest, color = tmp.values[0,10])\n",
    "        teams.append(team)\n",
    "        if np.max(cum_latest) > 20:\n",
    "            ax.text(len(season_points['circuit'].unique())-0.7,np.max(cum_latest),f'{driver}')\n",
    "    ax.legend(bbox_to_anchor=(0.5, 1.1), loc='upper center', borderaxespad=0.,ncol=10)\n",
    "    ax.set_xticklabels(season_points['circuit'].unique(), rotation = 90)\n",
    "    ax.set_ylabel('Points')\n",
    "    plt.show()"
   ]
  },
  {
   "cell_type": "code",
   "execution_count": 7,
   "metadata": {},
   "outputs": [],
   "source": [
    "sea = sorted_latest['year'].unique()"
   ]
  },
  {
   "cell_type": "code",
   "execution_count": 8,
   "metadata": {},
   "outputs": [
    {
     "data": {
      "application/vnd.jupyter.widget-view+json": {
       "model_id": "596182e357094d49b16134a863f555b0",
       "version_major": 2,
       "version_minor": 0
      },
      "text/plain": [
       "interactive(children=(Dropdown(description='Season', options=(1986, 1987, 1988, 1989, 1990, 1991, 1992, 1993, …"
      ]
     },
     "metadata": {},
     "output_type": "display_data"
    }
   ],
   "source": [
    "_ = widgets.interact(plot, Season = sea)"
   ]
  },
  {
   "cell_type": "code",
   "execution_count": 9,
   "metadata": {},
   "outputs": [],
   "source": [
    "standings =  pd.read_csv('data/constructor_standings.csv', names =['constructorStandingsId','raceId','constructorId','points','position','positionText', 'wins'])"
   ]
  },
  {
   "cell_type": "code",
   "execution_count": 10,
   "metadata": {},
   "outputs": [],
   "source": [
    "standings['year'] = standings['raceId'].map(dict_year)\n",
    "standings['team'] = standings['constructorId'].map(dict_team)\n",
    "standings['circuit'] = standings['raceId'].map(dict_circuit)\n",
    "standings['color'] = standings['team'].map(dict_color)\n",
    "standings['year'] = standings['year'].astype(int)"
   ]
  },
  {
   "cell_type": "code",
   "execution_count": 11,
   "metadata": {},
   "outputs": [
    {
     "data": {
      "text/html": [
       "<div>\n",
       "<style scoped>\n",
       "    .dataframe tbody tr th:only-of-type {\n",
       "        vertical-align: middle;\n",
       "    }\n",
       "\n",
       "    .dataframe tbody tr th {\n",
       "        vertical-align: top;\n",
       "    }\n",
       "\n",
       "    .dataframe thead th {\n",
       "        text-align: right;\n",
       "    }\n",
       "</style>\n",
       "<table border=\"1\" class=\"dataframe\">\n",
       "  <thead>\n",
       "    <tr style=\"text-align: right;\">\n",
       "      <th></th>\n",
       "      <th>constructorStandingsId</th>\n",
       "      <th>raceId</th>\n",
       "      <th>constructorId</th>\n",
       "      <th>points</th>\n",
       "      <th>position</th>\n",
       "      <th>positionText</th>\n",
       "      <th>wins</th>\n",
       "      <th>year</th>\n",
       "      <th>team</th>\n",
       "      <th>circuit</th>\n",
       "      <th>color</th>\n",
       "    </tr>\n",
       "  </thead>\n",
       "  <tbody>\n",
       "    <tr>\n",
       "      <th>4790</th>\n",
       "      <td>9684</td>\n",
       "      <td>404</td>\n",
       "      <td>3</td>\n",
       "      <td>9.0</td>\n",
       "      <td>1</td>\n",
       "      <td>1</td>\n",
       "      <td>1</td>\n",
       "      <td>1986</td>\n",
       "      <td>williams</td>\n",
       "      <td>Brazilian Grand Prix</td>\n",
       "      <td>gainsboro</td>\n",
       "    </tr>\n",
       "    <tr>\n",
       "      <th>4791</th>\n",
       "      <td>9685</td>\n",
       "      <td>404</td>\n",
       "      <td>32</td>\n",
       "      <td>6.0</td>\n",
       "      <td>3</td>\n",
       "      <td>3</td>\n",
       "      <td>0</td>\n",
       "      <td>1986</td>\n",
       "      <td>team_lotus</td>\n",
       "      <td>Brazilian Grand Prix</td>\n",
       "      <td>#FFF500</td>\n",
       "    </tr>\n",
       "    <tr>\n",
       "      <th>4792</th>\n",
       "      <td>9686</td>\n",
       "      <td>404</td>\n",
       "      <td>27</td>\n",
       "      <td>7.0</td>\n",
       "      <td>2</td>\n",
       "      <td>2</td>\n",
       "      <td>0</td>\n",
       "      <td>1986</td>\n",
       "      <td>ligier</td>\n",
       "      <td>Brazilian Grand Prix</td>\n",
       "      <td>darkgreen</td>\n",
       "    </tr>\n",
       "    <tr>\n",
       "      <th>4793</th>\n",
       "      <td>9687</td>\n",
       "      <td>404</td>\n",
       "      <td>25</td>\n",
       "      <td>2.0</td>\n",
       "      <td>4</td>\n",
       "      <td>4</td>\n",
       "      <td>0</td>\n",
       "      <td>1986</td>\n",
       "      <td>tyrrell</td>\n",
       "      <td>Brazilian Grand Prix</td>\n",
       "      <td>k</td>\n",
       "    </tr>\n",
       "    <tr>\n",
       "      <th>4794</th>\n",
       "      <td>9688</td>\n",
       "      <td>404</td>\n",
       "      <td>22</td>\n",
       "      <td>1.0</td>\n",
       "      <td>5</td>\n",
       "      <td>5</td>\n",
       "      <td>0</td>\n",
       "      <td>1986</td>\n",
       "      <td>benetton</td>\n",
       "      <td>Brazilian Grand Prix</td>\n",
       "      <td>springgreen</td>\n",
       "    </tr>\n",
       "  </tbody>\n",
       "</table>\n",
       "</div>"
      ],
      "text/plain": [
       "      constructorStandingsId  raceId  constructorId  points  position  \\\n",
       "4790                    9684     404              3     9.0         1   \n",
       "4791                    9685     404             32     6.0         3   \n",
       "4792                    9686     404             27     7.0         2   \n",
       "4793                    9687     404             25     2.0         4   \n",
       "4794                    9688     404             22     1.0         5   \n",
       "\n",
       "     positionText  wins  year        team               circuit        color  \n",
       "4790            1     1  1986    williams  Brazilian Grand Prix    gainsboro  \n",
       "4791            3     0  1986  team_lotus  Brazilian Grand Prix      #FFF500  \n",
       "4792            2     0  1986      ligier  Brazilian Grand Prix    darkgreen  \n",
       "4793            4     0  1986     tyrrell  Brazilian Grand Prix            k  \n",
       "4794            5     0  1986    benetton  Brazilian Grand Prix  springgreen  "
      ]
     },
     "execution_count": 11,
     "metadata": {},
     "output_type": "execute_result"
    }
   ],
   "source": [
    "standings = standings[(standings['year'] >= 1986) & (standings['year'] <= 2020)]\n",
    "sorted_standings = standings.sort_values(by = ['year', 'raceId'])\n",
    "sorted_standings.head()"
   ]
  },
  {
   "cell_type": "code",
   "execution_count": 12,
   "metadata": {},
   "outputs": [],
   "source": [
    "def graph(Participations, legend):\n",
    "    fig = plt.figure(figsize = (20,10))\n",
    "    ax = plt.subplot(111)\n",
    "    for team in sorted_standings['team'].unique():\n",
    "        tmp = sorted_standings[sorted_standings['team'] == team]\n",
    "        years = tmp.values[:,7]\n",
    "        teams = list()\n",
    "        long = len(tmp['year'].unique())\n",
    "        if long >= Participations:\n",
    "            for year in tmp['year'].unique():\n",
    "                tmp_year = tmp[tmp['year'] == year]\n",
    "                last_race = np.max(tmp_year['raceId'].unique())\n",
    "                last_race_data = tmp_year[tmp_year['raceId'] == last_race]\n",
    "                position = last_race_data.values[:,4]\n",
    "                if team in teams:\n",
    "                    ax.scatter(year, position, c = last_race_data.values[0,10], edgecolor = 'k',s = 100)\n",
    "                else:\n",
    "                    ax.scatter(year, position, c = last_race_data.values[0,10], edgecolor = 'k', label= team, s = 100)\n",
    "                teams.append(team)\n",
    "    if legend == True:            \n",
    "        ax.legend(bbox_to_anchor=(0.5, 1.05), loc='upper center', borderaxespad=0.,ncol=12)\n",
    "    ax.invert_yaxis()\n",
    "    ax.set_xticks(np.arange(1986,2020,1))\n",
    "    ax.set_xticklabels(sorted_standings['year'].unique())\n",
    "    ax.set_ylabel('Constructors Position')\n",
    "    plt.show()"
   ]
  },
  {
   "cell_type": "code",
   "execution_count": 13,
   "metadata": {},
   "outputs": [
    {
     "data": {
      "application/vnd.jupyter.widget-view+json": {
       "model_id": "1f767ae483cf4f5697ebb73075701901",
       "version_major": 2,
       "version_minor": 0
      },
      "text/plain": [
       "interactive(children=(Dropdown(description='Participations', options=(32, 31, 30, 29, 28, 27, 26, 25, 24, 23, …"
      ]
     },
     "metadata": {},
     "output_type": "display_data"
    }
   ],
   "source": [
    "_ = widgets.interact(graph, Participations = np.flip(np.arange(1,33,1)), legend = False)"
   ]
  },
  {
   "cell_type": "code",
   "execution_count": 14,
   "metadata": {},
   "outputs": [],
   "source": [
    "laptimes =  pd.read_csv('data/lap_times.csv', names =['raceId','driverId','lap','position','time','milliseconds'])\n",
    "laptimes['year'] = laptimes['raceId'].map(dict_year)\n",
    "laptimes['circuit'] = laptimes['raceId'].map(dict_circuit)"
   ]
  },
  {
   "cell_type": "code",
   "execution_count": 15,
   "metadata": {},
   "outputs": [
    {
     "data": {
      "text/html": [
       "<div>\n",
       "<style scoped>\n",
       "    .dataframe tbody tr th:only-of-type {\n",
       "        vertical-align: middle;\n",
       "    }\n",
       "\n",
       "    .dataframe tbody tr th {\n",
       "        vertical-align: top;\n",
       "    }\n",
       "\n",
       "    .dataframe thead th {\n",
       "        text-align: right;\n",
       "    }\n",
       "</style>\n",
       "<table border=\"1\" class=\"dataframe\">\n",
       "  <thead>\n",
       "    <tr style=\"text-align: right;\">\n",
       "      <th></th>\n",
       "      <th>raceId</th>\n",
       "      <th>driverId</th>\n",
       "      <th>lap</th>\n",
       "      <th>position</th>\n",
       "      <th>time</th>\n",
       "      <th>milliseconds</th>\n",
       "      <th>year</th>\n",
       "      <th>circuit</th>\n",
       "    </tr>\n",
       "  </thead>\n",
       "  <tbody>\n",
       "    <tr>\n",
       "      <th>113794</th>\n",
       "      <td>224</td>\n",
       "      <td>30</td>\n",
       "      <td>1</td>\n",
       "      <td>4</td>\n",
       "      <td>1:45.188</td>\n",
       "      <td>105188</td>\n",
       "      <td>1996</td>\n",
       "      <td>Australian Grand Prix</td>\n",
       "    </tr>\n",
       "    <tr>\n",
       "      <th>113795</th>\n",
       "      <td>224</td>\n",
       "      <td>30</td>\n",
       "      <td>2</td>\n",
       "      <td>3</td>\n",
       "      <td>1:37.680</td>\n",
       "      <td>97680</td>\n",
       "      <td>1996</td>\n",
       "      <td>Australian Grand Prix</td>\n",
       "    </tr>\n",
       "    <tr>\n",
       "      <th>113796</th>\n",
       "      <td>224</td>\n",
       "      <td>30</td>\n",
       "      <td>3</td>\n",
       "      <td>3</td>\n",
       "      <td>1:35.759</td>\n",
       "      <td>95759</td>\n",
       "      <td>1996</td>\n",
       "      <td>Australian Grand Prix</td>\n",
       "    </tr>\n",
       "    <tr>\n",
       "      <th>113797</th>\n",
       "      <td>224</td>\n",
       "      <td>30</td>\n",
       "      <td>4</td>\n",
       "      <td>3</td>\n",
       "      <td>1:35.467</td>\n",
       "      <td>95467</td>\n",
       "      <td>1996</td>\n",
       "      <td>Australian Grand Prix</td>\n",
       "    </tr>\n",
       "    <tr>\n",
       "      <th>113798</th>\n",
       "      <td>224</td>\n",
       "      <td>30</td>\n",
       "      <td>5</td>\n",
       "      <td>3</td>\n",
       "      <td>1:35.254</td>\n",
       "      <td>95254</td>\n",
       "      <td>1996</td>\n",
       "      <td>Australian Grand Prix</td>\n",
       "    </tr>\n",
       "  </tbody>\n",
       "</table>\n",
       "</div>"
      ],
      "text/plain": [
       "        raceId  driverId  lap  position      time  milliseconds  year  \\\n",
       "113794     224        30    1         4  1:45.188        105188  1996   \n",
       "113795     224        30    2         3  1:37.680         97680  1996   \n",
       "113796     224        30    3         3  1:35.759         95759  1996   \n",
       "113797     224        30    4         3  1:35.467         95467  1996   \n",
       "113798     224        30    5         3  1:35.254         95254  1996   \n",
       "\n",
       "                      circuit  \n",
       "113794  Australian Grand Prix  \n",
       "113795  Australian Grand Prix  \n",
       "113796  Australian Grand Prix  \n",
       "113797  Australian Grand Prix  \n",
       "113798  Australian Grand Prix  "
      ]
     },
     "execution_count": 15,
     "metadata": {},
     "output_type": "execute_result"
    }
   ],
   "source": [
    "sorted_laptimes = laptimes.sort_values(by = ['year', 'raceId'])\n",
    "sorted_laptimes.head()"
   ]
  },
  {
   "cell_type": "code",
   "execution_count": 16,
   "metadata": {},
   "outputs": [],
   "source": [
    "def times(Circuit, deviation):\n",
    "    colors = plt.cm.hsv(np.linspace(0, 1, len(sorted_laptimes['year'].unique())))\n",
    "    fig = plt.figure(figsize = (20,10))\n",
    "    ax = plt.subplot(111)\n",
    "    circuit = sorted_laptimes[sorted_laptimes['circuit'] == Circuit]\n",
    "    i = 0\n",
    "    times = list()\n",
    "    for year in circuit['year'].unique():\n",
    "        tmp = circuit[circuit['year'] == year]\n",
    "        lap = tmp.values[:,2]\n",
    "        number_laps = np.max(lap)\n",
    "        for driver in tmp['driverId'].unique():\n",
    "            tmp2 = tmp[tmp['driverId'] == driver]\n",
    "            laps = tmp2.values[:,2]\n",
    "            if np.max(laps) == number_laps:\n",
    "                time = tmp.values[:,5]/60000\n",
    "                times.extend(time)\n",
    "        ax.scatter(year, np.sum(times)/len(times), edgecolor = 'k', s = 100, color = colors[i])\n",
    "        if deviation == True:\n",
    "            ax.errorbar(year, np.sum(times)/len(times), yerr =np.std(times), capsize = 10, color = colors[i])\n",
    "        i+=1\n",
    "    ax.set_xticks(np.arange(1996,2020,1))\n",
    "    ax.set_xticklabels(sorted_laptimes['year'].unique())\n",
    "    plt.show()"
   ]
  },
  {
   "cell_type": "code",
   "execution_count": 17,
   "metadata": {},
   "outputs": [
    {
     "data": {
      "application/vnd.jupyter.widget-view+json": {
       "model_id": "fd204c35848b48f0b2a042e33d1ec7c1",
       "version_major": 2,
       "version_minor": 0
      },
      "text/plain": [
       "interactive(children=(Dropdown(description='Circuit', options=('Australian Grand Prix', 'Brazilian Grand Prix'…"
      ]
     },
     "metadata": {},
     "output_type": "display_data"
    }
   ],
   "source": [
    "_ = widgets.interact(times, Circuit = sorted_laptimes['circuit'].unique(), deviation = False)"
   ]
  },
  {
   "cell_type": "code",
   "execution_count": null,
   "metadata": {},
   "outputs": [],
   "source": []
  }
 ],
 "metadata": {
  "kernelspec": {
   "display_name": "Python 3",
   "language": "python",
   "name": "python3"
  },
  "language_info": {
   "codemirror_mode": {
    "name": "ipython",
    "version": 3
   },
   "file_extension": ".py",
   "mimetype": "text/x-python",
   "name": "python",
   "nbconvert_exporter": "python",
   "pygments_lexer": "ipython3",
   "version": "3.7.3"
  }
 },
 "nbformat": 4,
 "nbformat_minor": 2
}
